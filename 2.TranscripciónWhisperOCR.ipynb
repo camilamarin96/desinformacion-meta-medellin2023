{
  "nbformat": 4,
  "nbformat_minor": 0,
  "metadata": {
    "colab": {
      "provenance": []
    },
    "kernelspec": {
      "name": "python3",
      "display_name": "Python 3"
    },
    "language_info": {
      "name": "python"
    }
  },
  "cells": [
    {
      "cell_type": "markdown",
      "source": [
        "#Leer OCR"
      ],
      "metadata": {
        "id": "8S8Ek_sbi3Xx"
      }
    },
    {
      "cell_type": "code",
      "execution_count": null,
      "metadata": {
        "id": "AvUVXpi5PIOh"
      },
      "outputs": [],
      "source": [
        "import subprocess\n",
        "\n",
        "# Instalar Tesseract y el paquete de idioma español\n",
        "subprocess.run(['sudo', 'apt-get', 'install', '-y', 'tesseract-ocr'], check=True)\n",
        "subprocess.run(['sudo', 'apt-get', 'install', '-y', 'tesseract-ocr-spa'], check=True)\n",
        "\n",
        "# Instalar ImageMagick\n",
        "subprocess.run(['sudo', 'apt-get', 'install', '-y', 'imagemagick'], check=True)\n",
        "\n",
        "# Instalar las librerías de Python\n",
        "subprocess.run(['pip', 'install', 'pyocr'], check=True)\n",
        "subprocess.run(['pip', 'install', 'wand'], check=True)\n",
        "subprocess.run(['pip', 'install', 'pillow'], check=True)\n",
        "\n",
        "from google.colab import drive\n"
      ]
    },
    {
      "cell_type": "markdown",
      "source": [
        "##Script"
      ],
      "metadata": {
        "id": "wOEikdPXP8L7"
      }
    },
    {
      "cell_type": "code",
      "source": [
        "import sys\n",
        "import pyocr\n",
        "import pyocr.builders\n",
        "from wand.image import Image as WandImage\n",
        "from PIL import Image as PILImage\n",
        "\n",
        "\n",
        "def show_config():\n",
        "    tools = pyocr.get_available_tools()\n",
        "    if len(tools) == 0:\n",
        "        print(\"Herramienta OCR no encontrada.\")\n",
        "        sys.exit(1)\n",
        "\n",
        "    tool = tools[0]\n",
        "    print(\"* Herramientas OCR disponibles:\")\n",
        "    for t in tools:\n",
        "        print('  - %s' % t.get_name())\n",
        "        langs = t.get_available_languages()\n",
        "        print(\"    - Lenguajes disponibles: %s\" % \", \".join(langs))\n",
        "\n",
        "show_config()\n"
      ],
      "metadata": {
        "colab": {
          "base_uri": "https://localhost:8080/"
        },
        "id": "aQ_KwclOP-0U",
        "outputId": "6e5f8dec-50e1-46d9-ef31-cd396a65312a"
      },
      "execution_count": null,
      "outputs": [
        {
          "output_type": "stream",
          "name": "stdout",
          "text": [
            "* Herramientas OCR disponibles:\n",
            "  - Tesseract (sh)\n",
            "    - Lenguajes disponibles: eng, osd, spa\n",
            "  - Tesseract (C-API)\n",
            "    - Lenguajes disponibles: eng, osd, spa\n"
          ]
        }
      ]
    },
    {
      "cell_type": "code",
      "source": [
        "#show_config()\n",
        "\n",
        "tool = pyocr.get_available_tools()[0]\n",
        "lang = 'spa'"
      ],
      "metadata": {
        "id": "42tMxePPRLwr"
      },
      "execution_count": null,
      "outputs": []
    },
    {
      "cell_type": "markdown",
      "source": [
        "##GuardarFicheros"
      ],
      "metadata": {
        "id": "-4rkDCSeR-VF"
      }
    },
    {
      "cell_type": "code",
      "source": [
        "from wand.image import Image as WandImage\n",
        "from PIL import Image as PILImage\n",
        "import pyocr\n",
        "import pyocr.builders\n",
        "import io\n",
        "\n",
        "# Asegúrate de que pyocr está configurado correctamente\n",
        "tools = pyocr.get_available_tools()\n",
        "if len(tools) == 0:\n",
        "    print(\"Herramienta OCR no encontrada.\")\n",
        "    sys.exit(1)\n",
        "\n",
        "tool = tools[0]\n",
        "\n",
        "# Cargar un archivo de imagen multipágina (por ejemplo, un PDF)\n",
        "pdf_path = '//content/drive/MyDrive/gii/Copia de Juan_Carlos_Upegui-2098183347208652-1'  # Asegúrate de que esta ruta sea correcta y el archivo exista\n",
        "with WandImage(filename=pdf_path, resolution=300) as image_pdf:\n",
        "    image_jpeg = image_pdf.convert('jpeg')\n",
        "\n",
        "# Guardar todas las imágenes en un array\n",
        "page_jpeg_list = []\n",
        "for img in image_jpeg.sequence:\n",
        "    with WandImage(image=img) as img_page:\n",
        "        page_jpeg_list.append(PILImage.open(io.BytesIO(img_page.make_blob('jpeg'))))\n",
        "\n",
        "# Mostrar información sobre las imágenes convertidas\n",
        "for i, img in enumerate(page_jpeg_list):\n",
        "    print(f\"Página {i + 1}: tamaño {img.size}, modo {img.mode}\")\n",
        "\n",
        "##Extraer la info\n",
        "page_text_list = []\n",
        "for img in page_jpeg_list:\n",
        "    # Convertir la imagen a RGB si no lo está\n",
        "    img = img.convert(\"RGB\")\n",
        "    text = tool.image_to_string(img, lang=lang, builder=pyocr.builders.TextBuilder())\n",
        "    page_text_list.append(text)\n",
        "    print('- Página %2s: %5s caracteres' % (len(page_text_list), len(text)))\n",
        "\n",
        "# Guardar el texto en un archivo\n",
        "file_path = '/content/drive/MyDrive/gii/textfile.txt'\n",
        "with open(file_path, 'w') as fp:\n",
        "    fp.write('\\n\\n'.join(page_text_list))"
      ],
      "metadata": {
        "colab": {
          "base_uri": "https://localhost:8080/"
        },
        "id": "UuFuVoXLSWrc",
        "outputId": "a0a79420-c129-40a0-b1ec-e35f873840b2"
      },
      "execution_count": null,
      "outputs": [
        {
          "output_type": "stream",
          "name": "stdout",
          "text": [
            "Página 1: tamaño (600, 475), modo RGB\n",
            "- Página  1:   153 caracteres\n"
          ]
        }
      ]
    },
    {
      "cell_type": "markdown",
      "source": [
        "#Identificar tipo de archivo"
      ],
      "metadata": {
        "id": "I-MavILki9eV"
      }
    },
    {
      "cell_type": "code",
      "source": [
        "#Importar librerías\n",
        "!pip install python-magic\n",
        "!pip install tqdm\n",
        "import os\n",
        "import json\n",
        "import magic\n",
        "import requests\n",
        "import pandas as pd\n",
        "from tqdm import tqdm\n",
        "from pathlib import Path\n",
        "from google.colab import drive"
      ],
      "metadata": {
        "colab": {
          "base_uri": "https://localhost:8080/"
        },
        "id": "v9jQ8sKqjFwu",
        "outputId": "262af8b2-e459-454c-8da3-e9059c9154ab"
      },
      "execution_count": 1,
      "outputs": [
        {
          "output_type": "stream",
          "name": "stdout",
          "text": [
            "\u001b[31mERROR: Operation cancelled by user\u001b[0m\u001b[31m\n",
            "\u001b[0mRequirement already satisfied: tqdm in /usr/local/lib/python3.11/dist-packages (4.67.1)\n"
          ]
        }
      ]
    },
    {
      "cell_type": "code",
      "source": [
        "# Montar Google Drive\n",
        "drive.mount('/content/drive')\n",
        "\n",
        "# ruta de archivos\n",
        "carpeta = \"/content/drive/MyDrive/Proyecto_grado/multimedia candidatos/\"\n",
        "\n",
        "#Carga del df\n",
        "df = pd.read_csv('/content/drive/MyDrive/Proyecto_grado/Transcripciones/Transcripciones.csv', header=0)\n",
        "\n",
        "# Iterar sobre los archivos en la carpeta\n",
        "for archivo in tqdm(os.listdir(carpeta)):\n",
        "\n",
        "    ruta_archivo = os.path.join(carpeta, archivo)\n",
        "\n",
        "    # Crea un objeto Magic para detectar el tipo de archivo\n",
        "    detector = magic.Magic(mime=True)\n",
        "\n",
        "    #id del documento\n",
        "    id=archivo.split(\"-\")\n",
        "    id=id[1]\n",
        "    if \".\" in id:\n",
        "      id=id.split(\".\")\n",
        "      id=id[0]\n",
        "\n",
        "    if df.empty:\n",
        "        print(\"El DataFrame está vacío.\")\n",
        "    elif not df.loc[df['id'] == int(id) ].empty:\n",
        "        print('----------------------------')\n",
        "        print(f\"id ya procesada - id: {id}\")\n",
        "        continue\n",
        "\n",
        "    # Abre el archivo en modo binario\n",
        "    with open(ruta_archivo, 'rb') as f:\n",
        "        # Lee los primeros bytes del archivo para determinar su tipo\n",
        "        primeros_bytes = f.read(1024)  # Lee los primeros 1024 bytes (puedes ajustar este valor según tus necesidades)\n",
        "\n",
        "        # Utiliza Magic para determinar el tipo de archivo basado en los primeros bytes\n",
        "        tipo = detector.from_buffer(primeros_bytes)\n",
        "\n",
        "        if \"video\" in (tipo):\n",
        "          print('----------------------------')\n",
        "          print(archivo+' - tipo: '+tipo)\n",
        "          print(' procesando video...')\n",
        "\n",
        "          url = \"http://148.251.177.230:8080/upload_video\"\n",
        "\n",
        "          response = requests.post(url,files = {'file': open(ruta_archivo, 'rb')})\n",
        "          print(str(response.status_code))\n",
        "          print(str(response.text))\n",
        "\n",
        "          if response.status_code==200:\n",
        "            texto= json.loads(response.text)\n",
        "            texto=texto[\"text\"]\n",
        "\n",
        "            page_name= archivo.split(\"-\")\n",
        "            page_name= page_name[0]\n",
        "\n",
        "            # Crear un DataFrame con la nueva fila\n",
        "            nueva_fila = pd.DataFrame({\"id\": [id], \"page_name\": [page_name], \"transcripcion\": [texto]})\n",
        "\n",
        "            # Concatenar el nuevo DataFrame al original\n",
        "            df = pd.concat([df, nueva_fila], ignore_index=True)\n",
        "\n",
        "            # guardar resultados\n",
        "            df.to_csv('/content/drive/MyDrive/Proyecto_grado/Transcripciones/Transcripciones.csv', index=False)\n",
        "\n",
        "            print('video procesado OK')\n",
        "\n",
        "        else: # es otro tipo de archivo\n",
        "          print('----------------------------')\n",
        "          print('Archivo no procesado - tipo: '+tipo+' - '+archivo)"
      ],
      "metadata": {
        "id": "HWspyW5XjGWf"
      },
      "execution_count": null,
      "outputs": []
    },
    {
      "cell_type": "markdown",
      "source": [
        "#Whisper"
      ],
      "metadata": {
        "id": "6SaYbqf4j-om"
      }
    },
    {
      "cell_type": "code",
      "source": [
        "import tempfile\n",
        "import whisper\n",
        "import traceback\n",
        "from fastapi import FastAPI, File, UploadFile\n",
        "from fastapi.responses import JSONResponse\n",
        "from pyngrok import ngrok\n",
        "import nest_asyncio\n",
        "import uvicorn\n",
        "\n",
        "# Aplicar parches para que funcione en Colab\n",
        "nest_asyncio.apply()\n",
        "\n",
        "# Crear la app\n",
        "app = FastAPI()\n",
        "\n",
        "# Cargar el modelo una vez\n",
        "model = whisper.load_model(\"large-v3\")\n",
        "\n",
        "@app.post(\"/upload_video\")\n",
        "async def upload_video(file: UploadFile = File(...)):\n",
        "    try:\n",
        "        print('Procesando archivo...')\n",
        "        file_content = await file.read()\n",
        "\n",
        "        with tempfile.NamedTemporaryFile(delete=False, suffix=\".mp4\") as temp_file:\n",
        "            temp_file.write(file_content)\n",
        "            temp_file_path = temp_file.name\n",
        "\n",
        "        result = model.transcribe(temp_file_path, language='es')\n",
        "\n",
        "        print(f\"Texto transcrito: {result['text']}\")\n",
        "        return JSONResponse(content={\"text\": result['text']}, status_code=200)\n",
        "\n",
        "    except Exception as e:\n",
        "        traceback.print_exc()\n",
        "        return JSONResponse(content={\"error\": str(e)}, status_code=500)\n",
        "\n",
        "@app.get(\"/\")\n",
        "async def root():\n",
        "    return {\"message\": \"API de Whisper funcionando en Colab\"}\n",
        "\n",
        "# Exponer con ngrok\n",
        "public_url = ngrok.connect(8000)\n",
        "print(f\"Tu API está disponible en: {public_url}\")\n",
        "\n",
        "# Iniciar servidor\n",
        "uvicorn.run(app, host=\"0.0.0.0\", port=8000)\n",
        "\n"
      ],
      "metadata": {
        "id": "S5HfFipYlbKe"
      },
      "execution_count": null,
      "outputs": []
    }
  ]
}